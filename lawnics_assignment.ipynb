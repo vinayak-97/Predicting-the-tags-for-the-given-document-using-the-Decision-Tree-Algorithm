{
  "nbformat": 4,
  "nbformat_minor": 0,
  "metadata": {
    "colab": {
      "name": "lawnics assignment.ipynb",
      "provenance": []
    },
    "kernelspec": {
      "name": "python3",
      "display_name": "Python 3"
    },
    "accelerator": "GPU"
  },
  "cells": [
    {
      "cell_type": "markdown",
      "metadata": {
        "id": "ZKomRgJe7hIz"
      },
      "source": [
        "# Vinayak Bhosale assignment submission"
      ]
    },
    {
      "cell_type": "markdown",
      "metadata": {
        "id": "Ht_SvgiC3ibK"
      },
      "source": [
        "# Importing the necessary libraries"
      ]
    },
    {
      "cell_type": "code",
      "metadata": {
        "id": "EuaP4urPFzI0"
      },
      "source": [
        "import pandas as pd\r\n",
        "import numpy as np\r\n",
        "import matplotlib.pyplot as plt\r\n",
        "import seaborn as sns\r\n",
        "import pickle\r\n",
        "%matplotlib inline"
      ],
      "execution_count": 38,
      "outputs": []
    },
    {
      "cell_type": "markdown",
      "metadata": {
        "id": "uDh8c4Cb3oDW"
      },
      "source": [
        "First I started my using my jupyter notebook, while cleaning the text it was taking a lot of time, so I had to switch to google colab, the files which I loaded in my local jupyter notebook I had to save them in pickle file and then later dump the pickle file in colab that's why I am using the pickle package here"
      ]
    },
    {
      "cell_type": "code",
      "metadata": {
        "id": "nFtU4faJ4RZr"
      },
      "source": [
        "#The code that I have used in local computer to generate the doc and tags data\r\n",
        "# doc_data = []\r\n",
        "# doc_path = r\"C:\\Users\\Pinky\\Desktop\\lawnics\\Document Tagging\\Train_docs\"\r\n",
        "\r\n",
        "# for i in range(0,80):\r\n",
        "#     f = open(doc_path+\"\\\\\"+f\"case_{i}_statement.txt\",\"r\")\r\n",
        "#     doc_data.append(f.read())\r\n",
        "#     f.close()\r\n",
        "\r\n",
        "# len(doc_data)\r\n",
        "\r\n",
        "# tag_data = []\r\n",
        "# tag_path = r\"C:\\Users\\Pinky\\Desktop\\lawnics\\Document Tagging\\Train_tags\"\r\n",
        "\r\n",
        "# for i in range(0,80):\r\n",
        "#     f = open(tag_path+\"\\\\\"+f\"case{i}.txt\")\r\n",
        "#     tag_data.append(f.read())\r\n",
        "#     f.close()\r\n",
        "    \r\n",
        "    \r\n",
        "# len(tag_data)"
      ],
      "execution_count": 70,
      "outputs": []
    },
    {
      "cell_type": "markdown",
      "metadata": {
        "id": "8ysXsyMo4iM-"
      },
      "source": [
        "# loading the data"
      ]
    },
    {
      "cell_type": "code",
      "metadata": {
        "id": "Io9RDyD3Hhbu"
      },
      "source": [
        "pickle_in = open(\"/content/X_doc.pickle\",\"rb\")\r\n",
        "doc_data = pickle.load(pickle_in)\r\n",
        "pickle_in_y = open(\"/content/y_tag.pickle\",\"rb\")\r\n",
        "tag_data = pickle.load(pickle_in_y)"
      ],
      "execution_count": 39,
      "outputs": []
    },
    {
      "cell_type": "code",
      "metadata": {
        "colab": {
          "base_uri": "https://localhost:8080/",
          "height": 154
        },
        "id": "HJvKggLCICHY",
        "outputId": "10896be5-0aaa-422f-a811-5ca4fd340853"
      },
      "source": [
        "doc_data[0]"
      ],
      "execution_count": 40,
      "outputs": [
        {
          "output_type": "execute_result",
          "data": {
            "application/vnd.google.colaboratory.intrinsic+json": {
              "type": "string"
            },
            "text/plain": [
              "\"\\n\\nKurian Joseph, J.\\n\\n1. Leave granted in Special Leave Petition (Civil) No. 12495 of 2015\\n\\n2. Around 46.93 acres of Land was acquired by the Respondent-State of Haryana initiating the proceedings by Notification dated 19.09.1983 issued Under Section 4 of the Land Acquisition Act, 1894. The purpose of acquisition is residential and commercial for Panchkula, Sector-21. The acquired property is in Village Fatehpur. In respect of the same development, we have seen that this Court in many cases has based the fixation of the land value based on acquisition proceedings initiated in 1981 in Village Judian. Those properties in village Judian had access to State Highway and the value fixed by this Court is Rs. 250/- per square yard. In respect of properties situated in the adjoining village of the Appellants namely, Devi Nagar, we have fixed land value at the rate of Rs. 250/- per square yard that was the acquisition initiated in the year 1987 and that property had extensive national highway frontage.\\n\\n3. Learned Counsel for the Appellants submitted that in all the adjoining villages for the properties acquired for the same purpose, this Court having fixed the land value at Rs. 250/- per square yard and above, the Appellants may also be granted the same value.\\n\\n4. Shri Sanjay Kumar Tyagi, learned Additional Advocate General for the Respondent-State of Haryana however points out that even according to the Appellants, their claim was only Rs. 125/- per square yard and in any case the land of the Appellants does not have the same advantage when compared to other properties for which this Court had fixed the land value at Rs. 250/- per square yard and above.\\n\\n5. Learned Counsel appearing for the Appellants however points out that in the matter of fixation of just and fair compensation, the Court is not bound by claim made by the owner. It is for the Court, in the facts and circumstances of each case, to award just and fair compensation.\\n\\n6. Prior to amendment Act 68 of 1984, the amount of compensation that could be awarded by the Court was limited to the amount claimed by the applicant. Section 25 read as under-\\n\\nSection 25. Rules as to amount of compensation-\\n\\n(1) When the applicant has made a claim to compensation, pursuant to any notice given Under Section 9, the amount awarded to him by the court shall not exceed the amount so claimed or be less than the amount awarded by the Collector Under Section 11.\\n\\n(2) When the applicant has refused to make such claim or has omitted without sufficient reason (to be allowed by the Judge) to make such claim, the amount awarded by the court shall in no case exceed the amount awarded by the Collector.\\n\\n(3) When the applicant has omitted for a sufficient reason (to be allowed by the Judge) to make such claim, the amount awarded to him by the court shall not be less than, and may exceed, the amount awarded by the Collector.\\n\\nThe amended Section 25 reads as under:\\n\\nSection 25. Amount of compensation awarded by Court not to be lower than the amount awarded by the Collector- The amount of compensation awarded by the Court shall not be less than the amount awarded by the Collector Under Section 11.\\n\\nThe amendment has come into effect on 24.09.1984.\\n\\n7. The pre-amended provision put a cap on the maximum; the compensation by court should not be beyond the amount claimed. The amendment in 1984, on the contrary, put a cap on the minimum; compensation cannot be less that what was awarded by the Land Acquisition Collector. The cap on maximum having been expressly omitted, and the cap that is put is only on minimum, it is clear that the amount of compensation that a court can award is no longer restricted to the amount claimed by the applicant. It is the duty of the Court to award just and fair compensation taking into consideration the true market value and other relevant factors, irrespective of the claim made by the owner.\\n\\n8. Although in the context of the Motor Vehicles Act, 1988, this Court in Sanjay Batham v. Munna Lal Parihar MANU/SC/1280/2011MANU/SC/1280/2011 : (2010) 11 SCC 665 held that-\\n\\n17. It is true that in the petition filed by him Under Section 166 of the Act, the Appellant had claimed compensation of Rs. 4,20,000/- only, but as held in Nagappa v. Gurudayal Singh MANU/SC/1107/2002MANU/SC/1107/2002 : (2003) 2 SCC 274, in the absence of any bar in the Act, the Tribunal and for that reason any competent Court is entitled to award higher compensation to the victim of an accident.\\n\\n9. In Bhag Singh and Ors. v. Union Territory of Chandigarh MANU/SC/0265/1985MANU/SC/0265/1985 : (1985) 3 SCC 737, this Court held that there may be situations where the amount higher than claimed may be awarded to the claimant. The Court observed-\\n\\n3. ... It must be remembered that this was not a dispute between two private citizens where it would be quite just and legitimate to confine the claimant to the claim made by him and not to award him any higher amount than that claimed though even in such a case there may be situations where an amount higher than that claimed can be awarded to the claimant as for instance where an amount is claimed as due at the foot of an account. Here was a claim made by the Appellants against the State Government for compensation for acquisition of their land and under the law, the State was bound to pay to the Appellants compensation on the basis of the market value of the land acquired and if according to the judgments of the learned single Judge and the Division Bench, the market value of the land acquired was higher than that awarded by the Land Acquisition Collector or the Additional District Judge, there is no reason why the Appellants should have been denied the benefit of payment of the market value so determined. To deny this benefit to the Appellants would tantamount to permitting the State Government to acquire the land of the Appellants on payment of less than the true market value. There may be cases where, as for instance, under' agrarian reform legislation, the holder of land may, legitimately, as a matter of social justice with a view to eliminating concentration of land in the hands of a few and bringing about its equitable distribution, be deprived of land which is not being personally cultivated by him or which is in excess of the ceiling area with payment of little compensation or no compensation at all, but where land is acquired under the Land Acquisition Act, 1894, it would not be fair and just to deprive the holder of his land without payment of the true market value when the law, in so many terms, declares that he shall be paid such market value....\\n\\n10. In Krishi Utpadan Mandi Samiti v. Kanhaiya Lal MANU/SC/0625/2000MANU/SC/0625/2000 : (2000) 7 SCC 756, this Court held that under the amended provisions of Section 25 of the Act, the Court can grant a higher compensation than claimed by the applicant in his pleadings-\\n\\n17. Award being in this case between the dates 30th April, 1982 and 24th September, 1984 and as per the Union of India and Anr. v. Raghubir Singh (Dead) by L.Rs. etc. (Supra), the amended provisions would be applicable under which there is no restriction that award could only be upto the amount claimed by the claimant. Hence High Court order granting compensation more than what is claimed cannot be said to be illegal or contrary to the provisions of the Act. Hence the review itself, as is confined for the aforesaid reasons, has no merit.\\n\\n11. Further, in Bhimasha v. Special Land Acquisition Officer and Ors. MANU/SC/8775/2008MANU/SC/8775/2008 : (2008) 10 SCC 797, a three-Judge bench reiterated the principle in Bhag Singh (supra) and rejected the contention that a higher compensation than claimed by the owner in his pleadings cannot be awarded by the Court. In that case, the High Court had concluded that although the market price of the land was Rs. 66,550/- per acre, since the Appellant had only claimed compensation at the rate of Rs. 58,500/- per acre in his pleadings, therefore he could only be awarded compensation limited to his claim. This Court, while reversing the decision of the High Court, awarded the Petitioner the market value, i.e., Rs. 66,550/- per acre thereby holding that the award would not be limited to the claim made by him.\\n\\n12. In the case of the Appellants herein, it is an admitted position that the properties do not abut the national highway. Admittedly, it is situated about 375 yards away from the national highway and it appears that there is only the narrow Nahan Kothi Road connecting the properties of the Appellants to the national highway. Therefore, it will not be just and proper to award land value of Rs. 250/- per square yard, which is granted to the property in adjoining village. Having regard to the factual and legal position obtained above, we are of the considered view that the just and fair compensation in the case of Appellants would be Rs. 200/- per square yard.\\n\\n13. Therefore, these appeals are disposed off fixing the land value at Rs. 200/- per square yard and the Appellants shall also be entitled to all the statutory benefits. The amount as above shall be paid and deposited after adjusting the deficit court fee, if any, before the Executing Court within a period of three months from today.\\n\\n\""
            ]
          },
          "metadata": {
            "tags": []
          },
          "execution_count": 40
        }
      ]
    },
    {
      "cell_type": "markdown",
      "metadata": {
        "id": "pErfPF8D4mOK"
      },
      "source": [
        "# creating a data frame"
      ]
    },
    {
      "cell_type": "code",
      "metadata": {
        "colab": {
          "base_uri": "https://localhost:8080/",
          "height": 195
        },
        "id": "mV6_eLNuIDbw",
        "outputId": "2df1c38b-893f-4a6d-de7c-d150f1e01353"
      },
      "source": [
        "d = {\r\n",
        "    \"doc\":doc_data,\r\n",
        "    \"tag\":tag_data\r\n",
        "}\r\n",
        "\r\n",
        "df = pd.DataFrame(d)\r\n",
        "df.head(5)"
      ],
      "execution_count": 41,
      "outputs": [
        {
          "output_type": "execute_result",
          "data": {
            "text/html": [
              "<div>\n",
              "<style scoped>\n",
              "    .dataframe tbody tr th:only-of-type {\n",
              "        vertical-align: middle;\n",
              "    }\n",
              "\n",
              "    .dataframe tbody tr th {\n",
              "        vertical-align: top;\n",
              "    }\n",
              "\n",
              "    .dataframe thead th {\n",
              "        text-align: right;\n",
              "    }\n",
              "</style>\n",
              "<table border=\"1\" class=\"dataframe\">\n",
              "  <thead>\n",
              "    <tr style=\"text-align: right;\">\n",
              "      <th></th>\n",
              "      <th>doc</th>\n",
              "      <th>tag</th>\n",
              "    </tr>\n",
              "  </thead>\n",
              "  <tbody>\n",
              "    <tr>\n",
              "      <th>0</th>\n",
              "      <td>\\n\\nKurian Joseph, J.\\n\\n1. Leave granted in S...</td>\n",
              "      <td>Cause of Action</td>\n",
              "    </tr>\n",
              "    <tr>\n",
              "      <th>1</th>\n",
              "      <td>\\n\\nAbhay Manohar Sapre, J.\\n\\n1. Delay in fil...</td>\n",
              "      <td>Abetment, Abetment of Suicide, Absconding, Acc...</td>\n",
              "    </tr>\n",
              "    <tr>\n",
              "      <th>2</th>\n",
              "      <td>\\n\\nPinaki Chandra Ghose, J.\\n\\n1. This crimin...</td>\n",
              "      <td>Decision, Exemption, Exemption Notification, I...</td>\n",
              "    </tr>\n",
              "    <tr>\n",
              "      <th>3</th>\n",
              "      <td>\\n\\n1. This matter is placed before us as a Be...</td>\n",
              "      <td>Child Labour, Compensation, Fundamental Right,...</td>\n",
              "    </tr>\n",
              "    <tr>\n",
              "      <th>4</th>\n",
              "      <td>\\n\\n1. We have heard learned Counsel for the p...</td>\n",
              "      <td>Account, Auditor, Authentication, Commercial, ...</td>\n",
              "    </tr>\n",
              "  </tbody>\n",
              "</table>\n",
              "</div>"
            ],
            "text/plain": [
              "                                                 doc                                                tag\n",
              "0  \\n\\nKurian Joseph, J.\\n\\n1. Leave granted in S...                                    Cause of Action\n",
              "1  \\n\\nAbhay Manohar Sapre, J.\\n\\n1. Delay in fil...  Abetment, Abetment of Suicide, Absconding, Acc...\n",
              "2  \\n\\nPinaki Chandra Ghose, J.\\n\\n1. This crimin...  Decision, Exemption, Exemption Notification, I...\n",
              "3  \\n\\n1. This matter is placed before us as a Be...  Child Labour, Compensation, Fundamental Right,...\n",
              "4  \\n\\n1. We have heard learned Counsel for the p...  Account, Auditor, Authentication, Commercial, ..."
            ]
          },
          "metadata": {
            "tags": []
          },
          "execution_count": 41
        }
      ]
    },
    {
      "cell_type": "markdown",
      "metadata": {
        "id": "foFhMrM_4v0c"
      },
      "source": [
        "# creating a function that cleans \\n characters"
      ]
    },
    {
      "cell_type": "code",
      "metadata": {
        "id": "rSOJPomtILrv"
      },
      "source": [
        "def cleaner(col):\r\n",
        "    col = col.replace(\"\\n\",\"\")\r\n",
        "    return col"
      ],
      "execution_count": 42,
      "outputs": []
    },
    {
      "cell_type": "markdown",
      "metadata": {
        "id": "GHEj34-I43Xt"
      },
      "source": [
        "#applying cleaner function to doc colummn"
      ]
    },
    {
      "cell_type": "code",
      "metadata": {
        "colab": {
          "base_uri": "https://localhost:8080/",
          "height": 279
        },
        "id": "C7Zh8Z_7IPoZ",
        "outputId": "199c867a-ec79-45ff-a708-0746a24ffceb"
      },
      "source": [
        "df[\"clean doc\"] = df[\"doc\"].apply(cleaner)\r\n",
        "df.head()"
      ],
      "execution_count": 43,
      "outputs": [
        {
          "output_type": "execute_result",
          "data": {
            "text/html": [
              "<div>\n",
              "<style scoped>\n",
              "    .dataframe tbody tr th:only-of-type {\n",
              "        vertical-align: middle;\n",
              "    }\n",
              "\n",
              "    .dataframe tbody tr th {\n",
              "        vertical-align: top;\n",
              "    }\n",
              "\n",
              "    .dataframe thead th {\n",
              "        text-align: right;\n",
              "    }\n",
              "</style>\n",
              "<table border=\"1\" class=\"dataframe\">\n",
              "  <thead>\n",
              "    <tr style=\"text-align: right;\">\n",
              "      <th></th>\n",
              "      <th>doc</th>\n",
              "      <th>tag</th>\n",
              "      <th>clean doc</th>\n",
              "    </tr>\n",
              "  </thead>\n",
              "  <tbody>\n",
              "    <tr>\n",
              "      <th>0</th>\n",
              "      <td>\\n\\nKurian Joseph, J.\\n\\n1. Leave granted in S...</td>\n",
              "      <td>Cause of Action</td>\n",
              "      <td>Kurian Joseph, J.1. Leave granted in Special L...</td>\n",
              "    </tr>\n",
              "    <tr>\n",
              "      <th>1</th>\n",
              "      <td>\\n\\nAbhay Manohar Sapre, J.\\n\\n1. Delay in fil...</td>\n",
              "      <td>Abetment, Abetment of Suicide, Absconding, Acc...</td>\n",
              "      <td>Abhay Manohar Sapre, J.1. Delay in filing spec...</td>\n",
              "    </tr>\n",
              "    <tr>\n",
              "      <th>2</th>\n",
              "      <td>\\n\\nPinaki Chandra Ghose, J.\\n\\n1. This crimin...</td>\n",
              "      <td>Decision, Exemption, Exemption Notification, I...</td>\n",
              "      <td>Pinaki Chandra Ghose, J.1. This criminal appea...</td>\n",
              "    </tr>\n",
              "    <tr>\n",
              "      <th>3</th>\n",
              "      <td>\\n\\n1. This matter is placed before us as a Be...</td>\n",
              "      <td>Child Labour, Compensation, Fundamental Right,...</td>\n",
              "      <td>1. This matter is placed before us as a Bench ...</td>\n",
              "    </tr>\n",
              "    <tr>\n",
              "      <th>4</th>\n",
              "      <td>\\n\\n1. We have heard learned Counsel for the p...</td>\n",
              "      <td>Account, Auditor, Authentication, Commercial, ...</td>\n",
              "      <td>1. We have heard learned Counsel for the parti...</td>\n",
              "    </tr>\n",
              "  </tbody>\n",
              "</table>\n",
              "</div>"
            ],
            "text/plain": [
              "                                                 doc  ...                                          clean doc\n",
              "0  \\n\\nKurian Joseph, J.\\n\\n1. Leave granted in S...  ...  Kurian Joseph, J.1. Leave granted in Special L...\n",
              "1  \\n\\nAbhay Manohar Sapre, J.\\n\\n1. Delay in fil...  ...  Abhay Manohar Sapre, J.1. Delay in filing spec...\n",
              "2  \\n\\nPinaki Chandra Ghose, J.\\n\\n1. This crimin...  ...  Pinaki Chandra Ghose, J.1. This criminal appea...\n",
              "3  \\n\\n1. This matter is placed before us as a Be...  ...  1. This matter is placed before us as a Bench ...\n",
              "4  \\n\\n1. We have heard learned Counsel for the p...  ...  1. We have heard learned Counsel for the parti...\n",
              "\n",
              "[5 rows x 3 columns]"
            ]
          },
          "metadata": {
            "tags": []
          },
          "execution_count": 43
        }
      ]
    },
    {
      "cell_type": "markdown",
      "metadata": {
        "id": "7DdKdZoQ4_B6"
      },
      "source": [
        "# installing the cleanText module which is used to clean the text"
      ]
    },
    {
      "cell_type": "code",
      "metadata": {
        "colab": {
          "base_uri": "https://localhost:8080/"
        },
        "id": "Dyg0iYTPI3af",
        "outputId": "c35ceec8-3911-4ad0-dc23-b40492f30706"
      },
      "source": [
        "!pip install clean-text"
      ],
      "execution_count": 44,
      "outputs": [
        {
          "output_type": "stream",
          "text": [
            "Requirement already satisfied: clean-text in /usr/local/lib/python3.6/dist-packages (0.3.0)\n",
            "Requirement already satisfied: emoji in /usr/local/lib/python3.6/dist-packages (from clean-text) (0.6.0)\n",
            "Requirement already satisfied: ftfy<6.0,>=5.8 in /usr/local/lib/python3.6/dist-packages (from clean-text) (5.8)\n",
            "Requirement already satisfied: wcwidth in /usr/local/lib/python3.6/dist-packages (from ftfy<6.0,>=5.8->clean-text) (0.2.5)\n"
          ],
          "name": "stdout"
        }
      ]
    },
    {
      "cell_type": "markdown",
      "metadata": {
        "id": "CTlKXuq75KwQ"
      },
      "source": [
        "# creating a function that will remove punctuation, numbers, stopwords"
      ]
    },
    {
      "cell_type": "code",
      "metadata": {
        "colab": {
          "base_uri": "https://localhost:8080/"
        },
        "id": "15Y-QiqGISW4",
        "outputId": "b9884894-9243-4834-db67-35c02b6849bf"
      },
      "source": [
        "from cleantext import clean\r\n",
        "import nltk\r\n",
        "from nltk.corpus import stopwords\r\n",
        "from nltk.tokenize import word_tokenize\r\n",
        "nltk.download('stopwords')\r\n",
        "nltk.download('punkt')\r\n",
        "\r\n",
        "punc = '''!()-[]{};:'\"\\,<>./?@#$%^&*_~'''\r\n",
        "\r\n",
        "def no_punc(col):\r\n",
        "    \r\n",
        "    for ele in col:\r\n",
        "        if ele in punc:\r\n",
        "            col = col.replace(ele,\"\")\r\n",
        "    col = clean(col,fix_unicode=True,no_numbers=False,no_digits=True,replace_with_digit='')\r\n",
        "    text_tokens = word_tokenize(col)\r\n",
        "    tokens_without_sw = [word for word in text_tokens if not word in stopwords.words()]\r\n",
        "    col = \" \".join(tokens_without_sw)\r\n",
        "    \r\n",
        "    return col"
      ],
      "execution_count": 72,
      "outputs": [
        {
          "output_type": "stream",
          "text": [
            "[nltk_data] Downloading package stopwords to /root/nltk_data...\n",
            "[nltk_data]   Package stopwords is already up-to-date!\n",
            "[nltk_data] Downloading package punkt to /root/nltk_data...\n",
            "[nltk_data]   Package punkt is already up-to-date!\n"
          ],
          "name": "stdout"
        }
      ]
    },
    {
      "cell_type": "code",
      "metadata": {
        "colab": {
          "base_uri": "https://localhost:8080/",
          "height": 279
        },
        "id": "c4hKtz_HNwrl",
        "outputId": "3a7fc9fe-c769-4431-c508-066626e37288"
      },
      "source": [
        "df.head(5)"
      ],
      "execution_count": 46,
      "outputs": [
        {
          "output_type": "execute_result",
          "data": {
            "text/html": [
              "<div>\n",
              "<style scoped>\n",
              "    .dataframe tbody tr th:only-of-type {\n",
              "        vertical-align: middle;\n",
              "    }\n",
              "\n",
              "    .dataframe tbody tr th {\n",
              "        vertical-align: top;\n",
              "    }\n",
              "\n",
              "    .dataframe thead th {\n",
              "        text-align: right;\n",
              "    }\n",
              "</style>\n",
              "<table border=\"1\" class=\"dataframe\">\n",
              "  <thead>\n",
              "    <tr style=\"text-align: right;\">\n",
              "      <th></th>\n",
              "      <th>doc</th>\n",
              "      <th>tag</th>\n",
              "      <th>clean doc</th>\n",
              "    </tr>\n",
              "  </thead>\n",
              "  <tbody>\n",
              "    <tr>\n",
              "      <th>0</th>\n",
              "      <td>\\n\\nKurian Joseph, J.\\n\\n1. Leave granted in S...</td>\n",
              "      <td>Cause of Action</td>\n",
              "      <td>Kurian Joseph, J.1. Leave granted in Special L...</td>\n",
              "    </tr>\n",
              "    <tr>\n",
              "      <th>1</th>\n",
              "      <td>\\n\\nAbhay Manohar Sapre, J.\\n\\n1. Delay in fil...</td>\n",
              "      <td>Abetment, Abetment of Suicide, Absconding, Acc...</td>\n",
              "      <td>Abhay Manohar Sapre, J.1. Delay in filing spec...</td>\n",
              "    </tr>\n",
              "    <tr>\n",
              "      <th>2</th>\n",
              "      <td>\\n\\nPinaki Chandra Ghose, J.\\n\\n1. This crimin...</td>\n",
              "      <td>Decision, Exemption, Exemption Notification, I...</td>\n",
              "      <td>Pinaki Chandra Ghose, J.1. This criminal appea...</td>\n",
              "    </tr>\n",
              "    <tr>\n",
              "      <th>3</th>\n",
              "      <td>\\n\\n1. This matter is placed before us as a Be...</td>\n",
              "      <td>Child Labour, Compensation, Fundamental Right,...</td>\n",
              "      <td>1. This matter is placed before us as a Bench ...</td>\n",
              "    </tr>\n",
              "    <tr>\n",
              "      <th>4</th>\n",
              "      <td>\\n\\n1. We have heard learned Counsel for the p...</td>\n",
              "      <td>Account, Auditor, Authentication, Commercial, ...</td>\n",
              "      <td>1. We have heard learned Counsel for the parti...</td>\n",
              "    </tr>\n",
              "  </tbody>\n",
              "</table>\n",
              "</div>"
            ],
            "text/plain": [
              "                                                 doc  ...                                          clean doc\n",
              "0  \\n\\nKurian Joseph, J.\\n\\n1. Leave granted in S...  ...  Kurian Joseph, J.1. Leave granted in Special L...\n",
              "1  \\n\\nAbhay Manohar Sapre, J.\\n\\n1. Delay in fil...  ...  Abhay Manohar Sapre, J.1. Delay in filing spec...\n",
              "2  \\n\\nPinaki Chandra Ghose, J.\\n\\n1. This crimin...  ...  Pinaki Chandra Ghose, J.1. This criminal appea...\n",
              "3  \\n\\n1. This matter is placed before us as a Be...  ...  1. This matter is placed before us as a Bench ...\n",
              "4  \\n\\n1. We have heard learned Counsel for the p...  ...  1. We have heard learned Counsel for the parti...\n",
              "\n",
              "[5 rows x 3 columns]"
            ]
          },
          "metadata": {
            "tags": []
          },
          "execution_count": 46
        }
      ]
    },
    {
      "cell_type": "markdown",
      "metadata": {
        "id": "KmyZDYFK5hJg"
      },
      "source": [
        "# applying the no_punc function to clean doc column "
      ]
    },
    {
      "cell_type": "code",
      "metadata": {
        "id": "NKll8d2AJEo_"
      },
      "source": [
        "df[\"clean doc\"] = df[\"clean doc\"].apply(no_punc)"
      ],
      "execution_count": 71,
      "outputs": []
    },
    {
      "cell_type": "markdown",
      "metadata": {
        "id": "T4wTASrz5q31"
      },
      "source": [
        "# converting the words into vectors because machine learning models throw error when the string data is given as input"
      ]
    },
    {
      "cell_type": "code",
      "metadata": {
        "id": "ZmkkmOsHM--M"
      },
      "source": [
        "from sklearn.feature_extraction.text import CountVectorizer\r\n",
        "\r\n",
        "vector = CountVectorizer()\r\n",
        "X = vector.fit_transform(df[\"clean doc\"])"
      ],
      "execution_count": 48,
      "outputs": []
    },
    {
      "cell_type": "markdown",
      "metadata": {
        "id": "ZR9PqbpH58od"
      },
      "source": [
        "# assigning data to X and y variables"
      ]
    },
    {
      "cell_type": "code",
      "metadata": {
        "colab": {
          "base_uri": "https://localhost:8080/"
        },
        "id": "YageIlKPNcL0",
        "outputId": "7d9b9f0b-c1ed-4b9f-e98d-8d65531f720d"
      },
      "source": [
        "X.toarray()"
      ],
      "execution_count": 49,
      "outputs": [
        {
          "output_type": "execute_result",
          "data": {
            "text/plain": [
              "array([[0, 0, 0, ..., 0, 0, 0],\n",
              "       [0, 0, 0, ..., 0, 0, 0],\n",
              "       [0, 0, 0, ..., 0, 0, 0],\n",
              "       ...,\n",
              "       [0, 0, 0, ..., 0, 0, 0],\n",
              "       [0, 0, 0, ..., 0, 0, 0],\n",
              "       [0, 0, 0, ..., 0, 0, 0]])"
            ]
          },
          "metadata": {
            "tags": []
          },
          "execution_count": 49
        }
      ]
    },
    {
      "cell_type": "code",
      "metadata": {
        "id": "x-dyeFmKNd9r"
      },
      "source": [
        "# vector.get_feature_names()"
      ],
      "execution_count": 51,
      "outputs": []
    },
    {
      "cell_type": "code",
      "metadata": {
        "colab": {
          "base_uri": "https://localhost:8080/"
        },
        "id": "ql-2719fNimW",
        "outputId": "6a675374-f9a5-4461-9975-9db362f7a41e"
      },
      "source": [
        "y = df[\"tag\"]\r\n",
        "y.head(5)"
      ],
      "execution_count": 52,
      "outputs": [
        {
          "output_type": "execute_result",
          "data": {
            "text/plain": [
              "0                                      Cause of Action\n",
              "1    Abetment, Abetment of Suicide, Absconding, Acc...\n",
              "2    Decision, Exemption, Exemption Notification, I...\n",
              "3    Child Labour, Compensation, Fundamental Right,...\n",
              "4    Account, Auditor, Authentication, Commercial, ...\n",
              "Name: tag, dtype: object"
            ]
          },
          "metadata": {
            "tags": []
          },
          "execution_count": 52
        }
      ]
    },
    {
      "cell_type": "markdown",
      "metadata": {
        "id": "S7wNs7RB6IiY"
      },
      "source": [
        "# building the model, since this problem is about classification decision tree is good at solving classification problems so I used decision Tree model"
      ]
    },
    {
      "cell_type": "markdown",
      "metadata": {
        "id": "ISNqIUjY6a_z"
      },
      "source": [
        "# Training the decision Tree model with X and y variable"
      ]
    },
    {
      "cell_type": "code",
      "metadata": {
        "colab": {
          "base_uri": "https://localhost:8080/"
        },
        "id": "XVmV22JOSCCG",
        "outputId": "279e3c3e-e28e-4b09-db10-542df0d5e4c3"
      },
      "source": [
        "from sklearn.tree import DecisionTreeClassifier\r\n",
        "\r\n",
        "dt_model = DecisionTreeClassifier()\r\n",
        "\r\n",
        "dt_model.fit(X,y)"
      ],
      "execution_count": 53,
      "outputs": [
        {
          "output_type": "execute_result",
          "data": {
            "text/plain": [
              "DecisionTreeClassifier(ccp_alpha=0.0, class_weight=None, criterion='gini',\n",
              "                       max_depth=None, max_features=None, max_leaf_nodes=None,\n",
              "                       min_impurity_decrease=0.0, min_impurity_split=None,\n",
              "                       min_samples_leaf=1, min_samples_split=2,\n",
              "                       min_weight_fraction_leaf=0.0, presort='deprecated',\n",
              "                       random_state=None, splitter='best')"
            ]
          },
          "metadata": {
            "tags": []
          },
          "execution_count": 53
        }
      ]
    },
    {
      "cell_type": "markdown",
      "metadata": {
        "id": "GTshTDQF6g0v"
      },
      "source": [
        "# checking the score, I got 100% score"
      ]
    },
    {
      "cell_type": "code",
      "metadata": {
        "colab": {
          "base_uri": "https://localhost:8080/"
        },
        "id": "ARJAdpvASP5U",
        "outputId": "c8d6ca81-5885-4331-fee9-5c7539cf1eb7"
      },
      "source": [
        "dt_model.score(X,y)"
      ],
      "execution_count": 54,
      "outputs": [
        {
          "output_type": "execute_result",
          "data": {
            "text/plain": [
              "1.0"
            ]
          },
          "metadata": {
            "tags": []
          },
          "execution_count": 54
        }
      ]
    },
    {
      "cell_type": "markdown",
      "metadata": {
        "id": "iXDehj966n71"
      },
      "source": [
        "loading the X_test data from pickle"
      ]
    },
    {
      "cell_type": "code",
      "metadata": {
        "id": "yHECvQ0Pi958"
      },
      "source": [
        "pickle_in = open(\"/content/X_test_doc.pickle\",\"rb\")\r\n",
        "test_doc_data = pickle.load(pickle_in)"
      ],
      "execution_count": 55,
      "outputs": []
    },
    {
      "cell_type": "code",
      "metadata": {
        "colab": {
          "base_uri": "https://localhost:8080/",
          "height": 154
        },
        "id": "9oRQ6IjDj2y4",
        "outputId": "040fc7f1-2c56-414f-b228-012141253cdb"
      },
      "source": [
        "test_doc_data[0]"
      ],
      "execution_count": 56,
      "outputs": [
        {
          "output_type": "execute_result",
          "data": {
            "application/vnd.google.colaboratory.intrinsic+json": {
              "type": "string"
            },
            "text/plain": [
              "'\\n\\nP. Venkatarama Reddi, J.\\n\\n1. The opinion recorded by the Kerala High Court in ITR No. 16 of 1997 has given rise to this appeal filed by the Chief Commissioner of Income-tax. The dispute relates to the assessment year 1985-86. At the instance of the Revenue the following question was referred under Section 256(1) of the Income tax Act for the opinion of the High Court:\\n\\n\"Whether on the facts and in the circumstances of the case, the Tribunal is right in law and fact in holding that Rs. 3,02,758/- cannot be brought to tax and in doleting the addition of Rs. 3,02,758/- sustained by CIT (Appeals)?\"\\n\\nThe High Court accepted the view of the Tribunal which partly allowed the appeal of the assessee and answered the question in favour of the assessee.\\n\\n2. The facts in brief are: The respondent-assessee is engaged in the business of tea, spices etc. During the assessment year 1985-86 (previous year ending on 31.3.1985) the assessee \\'wrote-back\\' in its accounts a sum of Rs. 14,65,997/- representing the provision made during earlier years (1978-1981) towards its purchase tax liability. It appears that the liability to pay purchase tax on certain goods was in dispute and, therefore, the provision was made. Further, it appears that the assessee, in support of its claim for purchase tax relief, inter alia, relied on the decision of the Kerala High Court in Neroth Oil Mills\\' case. The SLP filed by the Kerala State against the decision of the High Court in the said case was rejected by this Court in November, 1984. Apparently, for that reason, the assessee thought it fit to reverse the provision made earlier towards purchase tax and therefore made the entries in the books of account during the year ending on 31.3.1985. The assessing officer added the sum of Rs. 14,65,997/- which represents the provision made towards purchase tax during the assessment years 1978-79, 1979-80 and 1980-81, treating the same as the income of the previous year ending on 31.3.1985. In the first appeal, the CIT (Appeals) held that there was no justification to include the sums which were already included in the course of reassessments made for the years 1979-80 and 1980-81. However, he upheld the addition of Rs. 3,02,758 pertaining to the assessment year 1978-79. The Appellate Commissioner held that the liability of the assessee finally ceased during the year 1985-86 in view of the rejection of SLP in Neroth Oil Mills\\' case in November 1984. Certain observations were also made as regards the inflexibility of the sums pertaining to assessment years 1980-81 and 1981-82 in respect of which reassessments were made. However, in this appeal, we need not go into the details thereof.\\n\\n3. On further appeal by the assessee, the Tribunal set aside the addition of Rs. 3,02,758/- which was upheld by the Appellate Commissioner. The Tribunal did not agree with the view taken by the first Appellate Authority that there was no cessation of liability within the meaning of Section 41(1) of the Income-tax Act during the relevant year on account of dismissal of SLP in another case. The Tribunal observed that for claiming exemption from purchase tax on the ground that transaction was in the course of export, two conditions were required to be fulfilled: (1) things purchased and exported are one and the same and (2) the purchases were against firm orders for export. Neroth Oil Mills\\'case was concerned only with the first aspect and not the second aspect. Therefore, the Tribunal observed that the judgment in Neroth Oil Mills\\' case, even if it had attained finality does not put an end to the disputed issue involved in the respondent-assessee\\'s case. The Tribunal further noticed that as late as 1993, the sales tax department was pursuing the issue relating to purchase tax liability of the assessee from the assessment year 1974-75 onwards and the cases were still pending decision before the Sales Tax Authorities. The Tribunal pointed out that he unilateral action on the part of the assessee in writing-back the amounts could not have the effect of extinguishing the statutory liability. On reference, the High Court approved the view taken by the Tribunal and held that Section 41(1) cannot be invoked in the instant case. Hence, this appeal by revenue by Special leave.\\n\\n4. It may be noted that the provision was made in the books of account towards purchase tax which was under dispute and the benefit of deduction from business income was availed of in the past years in relation thereto. The same was sought to be reversed by the assessee during the year ending on 31.3.1985 for whatever reason it be. The question is whether the circumstances contemplated by Section 41(1) exists so as to enable the Revenue to take back what has been allowed earlier as business expenditure and to include such amount in the income of the relevant assessment year i.e. 1985-86. In order to apply Section 41(1) in the context of the facts obtaining in the present case, the following points are to be kept in view : (1) In the course of assessment for an earlier year, allowance or deduction has been made in respect of trading liability incurred by the assessee; (2) Subsequently, a benefit is obtained in respect of such trading liability by way of remission or cessation thereof during the year in which such event occurred; (3) in that situation the value of benefit accruing to the assessee is deemed to be the profit and gains of business which otherwise would not be his income; and (4) such value of benefit is made chargeable to income tax as the income of the previous year wherein such benefit was obtained. The High Court, agreeing with the Tribunal, rightly held that the resort to Section 41(1) could arise only if the liability of the assessee can be said to have ceased finally without the possibility of reviving it. On the facts found by the Tribunal, the Tribunal as well as the High Court were well justified in coming to the conclusion that the purchase tax liability of the assessee had not ceased finally during the year in question. Despite the finality attained by the judgment in Neroth Oil Mills\\'case, the other issues having bearing on the exigibility of purchase tax still remained and the dispute between the assessee and the sales-tax department was still going on. There is no material on record to rebut these factual observations made by the Tribunal. Nor can it be said that the reasons given by the Tribunal are irrelevant.\\n\\n5. The learned senior counsel appearing for the Income Tax Department has contended that the assessee itself took steps to write-off the liability on account of purchase tax by making necessary adjustments in the books, which itself is indicative of the fact that the liability ceased for all practical purposes and therefore, the addition of amount of Rs. 3,20,758/- deeming the same as income of the year 1985-86 under Section 41(1) is well justified of the Act. But, what the assessee has done is not conclusive. As observed by the Tribunal, an unilateral action on the part of the assessee by way of writing-off the liability in its accounts does not necessarily mean that the liability ceased in the eye of law. In fact, this is the view taken by this Court in CIT v. Suguli Sugar Works(P) Ltd. MANU/SC/0077/1999MANU/SC/0077/1999 : [1999]236ITR518(SC) . We, therefore, find no substance in the contention advanced on behalf of the appellant. Incidentally, we may mention that the controversy relates to the period anterior to the introduction of Explanation 1 to Section 41(1).\\n\\n6. The decision of this Court in Commissioner of Income Tax v. T.V. Sundaram Iyengar and Sons Ltd. MANU/SC/1251/1996MANU/SC/1251/1996 : [1996]222ITR344(SC) has been cited by the learned counsel for the appellant. We find no relevance of this decision to the determination of the question involved in the present case. The factual matrix and the provision of law considered therein is entirely different.\\n\\n7. For the reasons aforesaid, we affirm the opinion expressed by the High Court and dismiss the appeal filed by the Revenue. There shall be no order as to costs.\\n\\n'"
            ]
          },
          "metadata": {
            "tags": []
          },
          "execution_count": 56
        }
      ]
    },
    {
      "cell_type": "markdown",
      "metadata": {
        "id": "yJqy-WQT6sCq"
      },
      "source": [
        "#creating a data frame for testing and predictions"
      ]
    },
    {
      "cell_type": "code",
      "metadata": {
        "colab": {
          "base_uri": "https://localhost:8080/",
          "height": 136
        },
        "id": "PckHQbc3jFxa",
        "outputId": "48916408-2e83-4afa-a662-98861a74073b"
      },
      "source": [
        "dic = {\r\n",
        "    \"test doc\": test_doc_data\r\n",
        "}\r\n",
        "\r\n",
        "df_test = pd.DataFrame(dic)\r\n",
        "df_test.head(3)"
      ],
      "execution_count": 57,
      "outputs": [
        {
          "output_type": "execute_result",
          "data": {
            "text/html": [
              "<div>\n",
              "<style scoped>\n",
              "    .dataframe tbody tr th:only-of-type {\n",
              "        vertical-align: middle;\n",
              "    }\n",
              "\n",
              "    .dataframe tbody tr th {\n",
              "        vertical-align: top;\n",
              "    }\n",
              "\n",
              "    .dataframe thead th {\n",
              "        text-align: right;\n",
              "    }\n",
              "</style>\n",
              "<table border=\"1\" class=\"dataframe\">\n",
              "  <thead>\n",
              "    <tr style=\"text-align: right;\">\n",
              "      <th></th>\n",
              "      <th>test doc</th>\n",
              "    </tr>\n",
              "  </thead>\n",
              "  <tbody>\n",
              "    <tr>\n",
              "      <th>0</th>\n",
              "      <td>\\n\\nP. Venkatarama Reddi, J.\\n\\n1. The opinion...</td>\n",
              "    </tr>\n",
              "    <tr>\n",
              "      <th>1</th>\n",
              "      <td>\\n\\nG.B. Pattanaik, J.\\n\\n1. This batch of Spe...</td>\n",
              "    </tr>\n",
              "    <tr>\n",
              "      <th>2</th>\n",
              "      <td>\\n\\n1. After hearing the Learned Counsel for b...</td>\n",
              "    </tr>\n",
              "  </tbody>\n",
              "</table>\n",
              "</div>"
            ],
            "text/plain": [
              "                                            test doc\n",
              "0  \\n\\nP. Venkatarama Reddi, J.\\n\\n1. The opinion...\n",
              "1  \\n\\nG.B. Pattanaik, J.\\n\\n1. This batch of Spe...\n",
              "2  \\n\\n1. After hearing the Learned Counsel for b..."
            ]
          },
          "metadata": {
            "tags": []
          },
          "execution_count": 57
        }
      ]
    },
    {
      "cell_type": "markdown",
      "metadata": {
        "id": "Kv-zUDFG6yke"
      },
      "source": [
        "# cleaning the \\n with cleaner function"
      ]
    },
    {
      "cell_type": "code",
      "metadata": {
        "colab": {
          "base_uri": "https://localhost:8080/",
          "height": 136
        },
        "id": "87js16kckj-a",
        "outputId": "7c8910d9-220e-478a-cbfb-9ed7f2694fde"
      },
      "source": [
        "df_test[\"clean test doc\"] = df_test[\"test doc\"].apply(cleaner)\r\n",
        "\r\n",
        "df_test.head(3)"
      ],
      "execution_count": 58,
      "outputs": [
        {
          "output_type": "execute_result",
          "data": {
            "text/html": [
              "<div>\n",
              "<style scoped>\n",
              "    .dataframe tbody tr th:only-of-type {\n",
              "        vertical-align: middle;\n",
              "    }\n",
              "\n",
              "    .dataframe tbody tr th {\n",
              "        vertical-align: top;\n",
              "    }\n",
              "\n",
              "    .dataframe thead th {\n",
              "        text-align: right;\n",
              "    }\n",
              "</style>\n",
              "<table border=\"1\" class=\"dataframe\">\n",
              "  <thead>\n",
              "    <tr style=\"text-align: right;\">\n",
              "      <th></th>\n",
              "      <th>test doc</th>\n",
              "      <th>clean test doc</th>\n",
              "    </tr>\n",
              "  </thead>\n",
              "  <tbody>\n",
              "    <tr>\n",
              "      <th>0</th>\n",
              "      <td>\\n\\nP. Venkatarama Reddi, J.\\n\\n1. The opinion...</td>\n",
              "      <td>P. Venkatarama Reddi, J.1. The opinion recorde...</td>\n",
              "    </tr>\n",
              "    <tr>\n",
              "      <th>1</th>\n",
              "      <td>\\n\\nG.B. Pattanaik, J.\\n\\n1. This batch of Spe...</td>\n",
              "      <td>G.B. Pattanaik, J.1. This batch of Special Lea...</td>\n",
              "    </tr>\n",
              "    <tr>\n",
              "      <th>2</th>\n",
              "      <td>\\n\\n1. After hearing the Learned Counsel for b...</td>\n",
              "      <td>1. After hearing the Learned Counsel for both ...</td>\n",
              "    </tr>\n",
              "  </tbody>\n",
              "</table>\n",
              "</div>"
            ],
            "text/plain": [
              "                                            test doc                                     clean test doc\n",
              "0  \\n\\nP. Venkatarama Reddi, J.\\n\\n1. The opinion...  P. Venkatarama Reddi, J.1. The opinion recorde...\n",
              "1  \\n\\nG.B. Pattanaik, J.\\n\\n1. This batch of Spe...  G.B. Pattanaik, J.1. This batch of Special Lea...\n",
              "2  \\n\\n1. After hearing the Learned Counsel for b...  1. After hearing the Learned Counsel for both ..."
            ]
          },
          "metadata": {
            "tags": []
          },
          "execution_count": 58
        }
      ]
    },
    {
      "cell_type": "markdown",
      "metadata": {
        "id": "VZNsyPUZ65wN"
      },
      "source": [
        "# cleaning the punctuations,numbers and stop words from testing data"
      ]
    },
    {
      "cell_type": "code",
      "metadata": {
        "id": "M7ob03Hfk4hg"
      },
      "source": [
        "df_test[\"clean test doc\"] = df_test[\"clean test doc\"].apply(no_punc)"
      ],
      "execution_count": 60,
      "outputs": []
    },
    {
      "cell_type": "code",
      "metadata": {
        "colab": {
          "base_uri": "https://localhost:8080/",
          "height": 166
        },
        "id": "AbEXZiUA1xwp",
        "outputId": "67ac4059-101a-46ee-dbe4-10e9df906f9f"
      },
      "source": [
        "df_test.head(4)"
      ],
      "execution_count": 61,
      "outputs": [
        {
          "output_type": "execute_result",
          "data": {
            "text/html": [
              "<div>\n",
              "<style scoped>\n",
              "    .dataframe tbody tr th:only-of-type {\n",
              "        vertical-align: middle;\n",
              "    }\n",
              "\n",
              "    .dataframe tbody tr th {\n",
              "        vertical-align: top;\n",
              "    }\n",
              "\n",
              "    .dataframe thead th {\n",
              "        text-align: right;\n",
              "    }\n",
              "</style>\n",
              "<table border=\"1\" class=\"dataframe\">\n",
              "  <thead>\n",
              "    <tr style=\"text-align: right;\">\n",
              "      <th></th>\n",
              "      <th>test doc</th>\n",
              "      <th>clean test doc</th>\n",
              "    </tr>\n",
              "  </thead>\n",
              "  <tbody>\n",
              "    <tr>\n",
              "      <th>0</th>\n",
              "      <td>\\n\\nP. Venkatarama Reddi, J.\\n\\n1. The opinion...</td>\n",
              "      <td>p venkatarama reddi opinion recorded kerala hi...</td>\n",
              "    </tr>\n",
              "    <tr>\n",
              "      <th>1</th>\n",
              "      <td>\\n\\nG.B. Pattanaik, J.\\n\\n1. This batch of Spe...</td>\n",
              "      <td>gb pattanaik batch special leave petitions sta...</td>\n",
              "    </tr>\n",
              "    <tr>\n",
              "      <th>2</th>\n",
              "      <td>\\n\\n1. After hearing the Learned Counsel for b...</td>\n",
              "      <td>hearing learned counsel parties length find ag...</td>\n",
              "    </tr>\n",
              "    <tr>\n",
              "      <th>3</th>\n",
              "      <td>\\n\\n1. This appeal is directed against the jud...</td>\n",
              "      <td>appeal directed judgment order passed high cou...</td>\n",
              "    </tr>\n",
              "  </tbody>\n",
              "</table>\n",
              "</div>"
            ],
            "text/plain": [
              "                                            test doc                                     clean test doc\n",
              "0  \\n\\nP. Venkatarama Reddi, J.\\n\\n1. The opinion...  p venkatarama reddi opinion recorded kerala hi...\n",
              "1  \\n\\nG.B. Pattanaik, J.\\n\\n1. This batch of Spe...  gb pattanaik batch special leave petitions sta...\n",
              "2  \\n\\n1. After hearing the Learned Counsel for b...  hearing learned counsel parties length find ag...\n",
              "3  \\n\\n1. This appeal is directed against the jud...  appeal directed judgment order passed high cou..."
            ]
          },
          "metadata": {
            "tags": []
          },
          "execution_count": 61
        }
      ]
    },
    {
      "cell_type": "markdown",
      "metadata": {
        "id": "ttbLskDK7GMK"
      },
      "source": [
        "# converting the words into vectors"
      ]
    },
    {
      "cell_type": "code",
      "metadata": {
        "id": "M6yVAiKi11QT"
      },
      "source": [
        "X_test = vector.transform(df_test[\"clean test doc\"])"
      ],
      "execution_count": 62,
      "outputs": []
    },
    {
      "cell_type": "code",
      "metadata": {
        "colab": {
          "base_uri": "https://localhost:8080/"
        },
        "id": "gjqbQkHc1-0x",
        "outputId": "cf31e5ca-2f78-460a-8584-9c3567380662"
      },
      "source": [
        "X_test.toarray()"
      ],
      "execution_count": 63,
      "outputs": [
        {
          "output_type": "execute_result",
          "data": {
            "text/plain": [
              "array([[0, 0, 0, ..., 0, 0, 0],\n",
              "       [0, 0, 0, ..., 0, 0, 0],\n",
              "       [0, 0, 0, ..., 0, 0, 0],\n",
              "       ...,\n",
              "       [0, 0, 0, ..., 0, 0, 0],\n",
              "       [0, 0, 0, ..., 0, 0, 0],\n",
              "       [0, 0, 0, ..., 0, 0, 0]])"
            ]
          },
          "metadata": {
            "tags": []
          },
          "execution_count": 63
        }
      ]
    },
    {
      "cell_type": "markdown",
      "metadata": {
        "id": "J4bKqEum7L3i"
      },
      "source": [
        "# Making predictions"
      ]
    },
    {
      "cell_type": "code",
      "metadata": {
        "id": "4Prh8Tt62A1s"
      },
      "source": [
        "predictions = dt_model.predict(X_test)"
      ],
      "execution_count": 64,
      "outputs": []
    },
    {
      "cell_type": "code",
      "metadata": {
        "colab": {
          "base_uri": "https://localhost:8080/"
        },
        "id": "Rr1RqjgF2IMj",
        "outputId": "c52e18a8-d4c6-479e-d605-24196e21068b"
      },
      "source": [
        "predictions[:10]"
      ],
      "execution_count": 65,
      "outputs": [
        {
          "output_type": "execute_result",
          "data": {
            "text/plain": [
              "array(['Ad',\n",
              "       'Appropriation, Customs Authorities, Demand, India, Interest, Interim Order, Interim Relief, Order, Passenger, Proceeding, Revision, Security, Tax, Writ Jurisdiction',\n",
              "       \"Advocate General, Amending Act, Breach of Trust, Cause of Action, Constitution of India, Court's Power, Decency, Definition, Derogation of the Fundamental Right, Discrimination, Executive Power, Existing Law, Freedom of Conscience, Freedom of Religion, Fundamental Right, Governing Body, Guarantee, Judicial Power, Jurisdiction, Legislation, Liberty, Majority Judgment, Ordinary Prudence, Parliament, Particular Religion, Power to Regulate, Privy Council, Public Interest, Public Interest Litigation, Qualification, Recommendation, Regulation, Religious Affair, Religious Belief, Religious Denomination, Religious Endowment, Religious Freedom, Res Judicata, Right of Equality, Right to Freedom, Scheduled Caste, Service Rule, Social Reform, State Legislature, Subject to the Provision, Temple, Untouchability\",\n",
              "       'Adjudication, Application of, Application under, Approval under, Compensation, Complaint under, Conditions of Service, Contravention, Discharge, Discharge or Dismissal, Dismissal, Dismissal of Workman, Industrial Dispute, Industrial Tribunal, Interpretation of Statute, Misconduct, Object of Section, Payment of Wage, Pendency of Industrial Dispute, Pendency of Proceeding, Reference under, Reinstatement, Relationship of Employer and Employee, Remedy under, Social Justice, Standing Order, Unfair Labour Practice',\n",
              "       'Adjudication, Application of, Application under, Approval under, Compensation, Complaint under, Conditions of Service, Contravention, Discharge, Discharge or Dismissal, Dismissal, Dismissal of Workman, Industrial Dispute, Industrial Tribunal, Interpretation of Statute, Misconduct, Object of Section, Payment of Wage, Pendency of Industrial Dispute, Pendency of Proceeding, Reference under, Reinstatement, Relationship of Employer and Employee, Remedy under, Social Justice, Standing Order, Unfair Labour Practice',\n",
              "       'Appropriation, Customs Authorities, Demand, India, Interest, Interim Order, Interim Relief, Order, Passenger, Proceeding, Revision, Security, Tax, Writ Jurisdiction',\n",
              "       'Act, Administration, Administrative, Advertisement, Agency, Amendment, Amicus Curiae, Animal, Any Order, Any Person, Appeal, Application, Article, Assent, Assign, Association, Authority, Bench, Board, Book, Books, Case, Central Government, Challenge, Charge, Colour, Commercial, Commissioner, Committee, Competent Authority, Concern, Condition, Confinement, Consent, Constitution, Constitution of India, Construction, Control, Control and Management, Convicted, Copy, Corporation, Cost, Cruelty, Data, Design, Destroyed, Destruction, Development, Disease, Disposal, District Board, Division, Division Bench, Due, Duty, Education, Establishment, Evidence, Exercise Of Power, Father, Financial Assistance, Fine, Form, Formation, Gift, Government, Grant, Guideline, Guidelines, Hearing, Hospital, Identification, Immediate, Improvement, In Connection With, India, Information, Instruction, Interim Order, Intervenor, Intervention, Issue, Judgment, Lecture, Legislation, Letter, Liberty, Local Authority, Local Bodies, Magistrate, Maintenance, Management, Mandate, Municipal Committee, Municipal Corporation, Name, National, Nature, Notice, Nuisance, Obligation, Offence, Officer, Officer In Charge, Order, Owner, Panchayat, Parliament, Parties, Pass, Penalty, Performing, Person, Petition, Police Officer, Population, Power To Make, Power to Make Rule, Prescribed, President of India, Prevention of Cruelty, Prima Facie, Procedure, Profit, Programme, Prohibited, Promotion, Protection, Public, Public Notice, Reason, Reason to Believe, Reasonable, Reasonable Expense, Record, Release, Repair, Repugnancy, Research, Resistance, Secretary, Slaughter House, State, State Government, Statute, Statutory, Street, Subject, Summon, Superintendent, Survey, Test, Transport, Transportation, Treatment, Union Territories, Vehicle, Vehicles, Welfare, Work, Writ, Writ Petition, Writing',\n",
              "       'Aluminium, Appeal, Assessee, Benefit, Buyer, Charge, Collector, Component, Consideration, Cost, Credit, Cum',\n",
              "       'Account, Application, Appropriate, Appropriate Proceeding, Authority, Case, Challenge, Concern, Consideration, Contentions, Cost, Date, Development, Direction, Express, Ground, Guideline, Guidelines, Information, Interest, Interim Order, Issue, Liberty, National, Notification, Order, Parties, Pass, Pending, Petition, Population, Prima Facie, Proceeding, Proceedings, Proceedings Pending, Public, Public Interest, Reason, Refusal, Requirement, Reserve, Reserves, Restoration, Restored, Seized, Special Leave, Special Leave Petition, State, Subject, Terms, Title, Validity, Writ, Writ Petition',\n",
              "       'Acceptance, Bank, Cheque, Debt, Demand, Dishonour, Endorsement, Holder, Holder in Due Course, Instrument, Interest, Negotiable, Negotiable Instrument, Payable'],\n",
              "      dtype=object)"
            ]
          },
          "metadata": {
            "tags": []
          },
          "execution_count": 65
        }
      ]
    },
    {
      "cell_type": "markdown",
      "metadata": {
        "id": "WAUXTIex7PPa"
      },
      "source": [
        "# adding a predictions column to the test data frame"
      ]
    },
    {
      "cell_type": "code",
      "metadata": {
        "id": "xsw1SQFP2N6F"
      },
      "source": [
        "df_test[\"output tags\"] = predictions"
      ],
      "execution_count": 67,
      "outputs": []
    },
    {
      "cell_type": "code",
      "metadata": {
        "colab": {
          "base_uri": "https://localhost:8080/",
          "height": 262
        },
        "id": "IY4AAQ9I2bFn",
        "outputId": "f782a0d6-4617-430a-93df-6fa12b8662b4"
      },
      "source": [
        "df_test.head(5)"
      ],
      "execution_count": 68,
      "outputs": [
        {
          "output_type": "execute_result",
          "data": {
            "text/html": [
              "<div>\n",
              "<style scoped>\n",
              "    .dataframe tbody tr th:only-of-type {\n",
              "        vertical-align: middle;\n",
              "    }\n",
              "\n",
              "    .dataframe tbody tr th {\n",
              "        vertical-align: top;\n",
              "    }\n",
              "\n",
              "    .dataframe thead th {\n",
              "        text-align: right;\n",
              "    }\n",
              "</style>\n",
              "<table border=\"1\" class=\"dataframe\">\n",
              "  <thead>\n",
              "    <tr style=\"text-align: right;\">\n",
              "      <th></th>\n",
              "      <th>test doc</th>\n",
              "      <th>clean test doc</th>\n",
              "      <th>output tags</th>\n",
              "    </tr>\n",
              "  </thead>\n",
              "  <tbody>\n",
              "    <tr>\n",
              "      <th>0</th>\n",
              "      <td>\\n\\nP. Venkatarama Reddi, J.\\n\\n1. The opinion...</td>\n",
              "      <td>p venkatarama reddi opinion recorded kerala hi...</td>\n",
              "      <td>Ad</td>\n",
              "    </tr>\n",
              "    <tr>\n",
              "      <th>1</th>\n",
              "      <td>\\n\\nG.B. Pattanaik, J.\\n\\n1. This batch of Spe...</td>\n",
              "      <td>gb pattanaik batch special leave petitions sta...</td>\n",
              "      <td>Appropriation, Customs Authorities, Demand, In...</td>\n",
              "    </tr>\n",
              "    <tr>\n",
              "      <th>2</th>\n",
              "      <td>\\n\\n1. After hearing the Learned Counsel for b...</td>\n",
              "      <td>hearing learned counsel parties length find ag...</td>\n",
              "      <td>Advocate General, Amending Act, Breach of Trus...</td>\n",
              "    </tr>\n",
              "    <tr>\n",
              "      <th>3</th>\n",
              "      <td>\\n\\n1. This appeal is directed against the jud...</td>\n",
              "      <td>appeal directed judgment order passed high cou...</td>\n",
              "      <td>Adjudication, Application of, Application unde...</td>\n",
              "    </tr>\n",
              "    <tr>\n",
              "      <th>4</th>\n",
              "      <td>\\n\\n1. An issue raised by the appellants was t...</td>\n",
              "      <td>issue raised appellants search conducted shop ...</td>\n",
              "      <td>Adjudication, Application of, Application unde...</td>\n",
              "    </tr>\n",
              "  </tbody>\n",
              "</table>\n",
              "</div>"
            ],
            "text/plain": [
              "                                            test doc  ...                                        output tags\n",
              "0  \\n\\nP. Venkatarama Reddi, J.\\n\\n1. The opinion...  ...                                                 Ad\n",
              "1  \\n\\nG.B. Pattanaik, J.\\n\\n1. This batch of Spe...  ...  Appropriation, Customs Authorities, Demand, In...\n",
              "2  \\n\\n1. After hearing the Learned Counsel for b...  ...  Advocate General, Amending Act, Breach of Trus...\n",
              "3  \\n\\n1. This appeal is directed against the jud...  ...  Adjudication, Application of, Application unde...\n",
              "4  \\n\\n1. An issue raised by the appellants was t...  ...  Adjudication, Application of, Application unde...\n",
              "\n",
              "[5 rows x 3 columns]"
            ]
          },
          "metadata": {
            "tags": []
          },
          "execution_count": 68
        }
      ]
    },
    {
      "cell_type": "markdown",
      "metadata": {
        "id": "RWyqmY1R7VFu"
      },
      "source": [
        "# saving the test data to a csv file along with predictions"
      ]
    },
    {
      "cell_type": "code",
      "metadata": {
        "id": "7aYoH2pw2h-3"
      },
      "source": [
        "df_test.to_csv(\"output.csv\",index=False)"
      ],
      "execution_count": 69,
      "outputs": []
    }
  ]
}